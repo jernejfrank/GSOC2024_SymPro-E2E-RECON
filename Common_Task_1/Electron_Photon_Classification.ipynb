{
 "cells": [
  {
   "cell_type": "code",
   "execution_count": 1,
   "id": "db9f9ee6-f103-4fa1-9bb8-dea2070449fd",
   "metadata": {},
   "outputs": [],
   "source": [
    "import torch\n",
    "from torch.utils.data import DataLoader\n",
    "from functions import H5Dataset, split_Dataset\n",
    "\n",
    "import matplotlib.pyplot as plt"
   ]
  },
  {
   "cell_type": "code",
   "execution_count": 2,
   "id": "be1bcbb7-5b0e-4b83-aaa3-f86f48d9cff0",
   "metadata": {},
   "outputs": [
    {
     "name": "stdout",
     "output_type": "stream",
     "text": [
      "The following keys are availible:  ['X', 'y']\n",
      "The following keys are availible:  ['X', 'y']\n"
     ]
    }
   ],
   "source": [
    "electrons = H5Dataset(\"../../GSOC2024_Data/SingleElectronPt50_IMGCROPS_n249k_RHv1.hdf5\",name='electrons')\n",
    "photons = H5Dataset('../../GSOC2024_Data/SinglePhotonPt50_IMGCROPS_n249k_RHv1.hdf5', name='photons')"
   ]
  },
  {
   "cell_type": "code",
   "execution_count": 3,
   "id": "78da5aa4-3d9a-4eb9-8bcb-aa589349c240",
   "metadata": {},
   "outputs": [
    {
     "name": "stdout",
     "output_type": "stream",
     "text": [
      "Loaded electrons inputs tensor (249000, 32, 32, 2)\n",
      "Loaded electrons targets tensor (249000,)\n",
      "Loaded photons inputs tensor (249000, 32, 32, 2)\n",
      "Loaded photons targets tensor (249000,)\n"
     ]
    }
   ],
   "source": [
    "electrons.load_data('X','y')\n",
    "photons.load_data('X','y')"
   ]
  },
  {
   "cell_type": "code",
   "execution_count": 4,
   "id": "1956e8e5-aa6d-422f-be88-9e268cb7d4a4",
   "metadata": {},
   "outputs": [],
   "source": [
    "train_electrons, test_electrons = split_Dataset(electrons)\n",
    "train_photons, test_photons = split_Dataset(electrons)\n",
    "\n",
    "train_electrons_dataloader = DataLoader(train_electrons, batch_size=64, shuffle=True)\n",
    "test_electrons_dataloader = DataLoader(test_electrons, batch_size=64, shuffle=True)\n",
    "train_photons_dataloader = DataLoader(train_electrons, batch_size=64, shuffle=True)\n",
    "test_photons_dataloader = DataLoader(test_electrons, batch_size=64, shuffle=True)"
   ]
  },
  {
   "cell_type": "code",
   "execution_count": 5,
   "id": "86575b3f-f6f3-4cf8-83bc-0dd3c7ce8475",
   "metadata": {},
   "outputs": [
    {
     "ename": "NameError",
     "evalue": "name 'train_dataloader' is not defined",
     "output_type": "error",
     "traceback": [
      "\u001b[0;31m---------------------------------------------------------------------------\u001b[0m",
      "\u001b[0;31mNameError\u001b[0m                                 Traceback (most recent call last)",
      "Cell \u001b[0;32mIn[5], line 1\u001b[0m\n\u001b[0;32m----> 1\u001b[0m train_features, train_labels \u001b[38;5;241m=\u001b[39m \u001b[38;5;28mnext\u001b[39m(\u001b[38;5;28miter\u001b[39m(train_dataloader))\n\u001b[1;32m      2\u001b[0m \u001b[38;5;28mprint\u001b[39m(\u001b[38;5;124mf\u001b[39m\u001b[38;5;124m\"\u001b[39m\u001b[38;5;124mFeature batch shape: \u001b[39m\u001b[38;5;132;01m{\u001b[39;00mtrain_features\u001b[38;5;241m.\u001b[39msize()\u001b[38;5;132;01m}\u001b[39;00m\u001b[38;5;124m\"\u001b[39m)\n\u001b[1;32m      3\u001b[0m \u001b[38;5;28mprint\u001b[39m(\u001b[38;5;124mf\u001b[39m\u001b[38;5;124m\"\u001b[39m\u001b[38;5;124mLabels batch shape: \u001b[39m\u001b[38;5;132;01m{\u001b[39;00mtrain_labels\u001b[38;5;241m.\u001b[39msize()\u001b[38;5;132;01m}\u001b[39;00m\u001b[38;5;124m\"\u001b[39m)\n",
      "\u001b[0;31mNameError\u001b[0m: name 'train_dataloader' is not defined"
     ]
    }
   ],
   "source": [
    "\n",
    "train_features, train_labels = next(iter(train_dataloader))\n",
    "print(f\"Feature batch shape: {train_features.size()}\")\n",
    "print(f\"Labels batch shape: {train_labels.size()}\")\n",
    "\n",
    "# plt.imshow(img, cmap=\"gray\")\n",
    "# plt.show()\n",
    "# print(f\"Label: {label}\")"
   ]
  },
  {
   "cell_type": "code",
   "execution_count": null,
   "id": "80f488c1-6c37-4524-b52a-94abf83d9604",
   "metadata": {},
   "outputs": [],
   "source": []
  }
 ],
 "metadata": {
  "kernelspec": {
   "display_name": "Python 3 (ipykernel)",
   "language": "python",
   "name": "python3"
  },
  "language_info": {
   "codemirror_mode": {
    "name": "ipython",
    "version": 3
   },
   "file_extension": ".py",
   "mimetype": "text/x-python",
   "name": "python",
   "nbconvert_exporter": "python",
   "pygments_lexer": "ipython3",
   "version": "3.11.5"
  }
 },
 "nbformat": 4,
 "nbformat_minor": 5
}

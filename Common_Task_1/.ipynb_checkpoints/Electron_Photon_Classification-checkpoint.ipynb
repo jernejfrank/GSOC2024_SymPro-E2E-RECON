{
 "cells": [
  {
   "cell_type": "code",
   "execution_count": 4,
   "id": "db9f9ee6-f103-4fa1-9bb8-dea2070449fd",
   "metadata": {},
   "outputs": [],
   "source": [
    "import torch\n",
    "from torch.utils.data import DataLoader\n",
    "from functions import H5Dataset, split_Dataset\n",
    "\n",
    "import matplotlib.pyplot as plt"
   ]
  },
  {
   "cell_type": "code",
   "execution_count": 6,
   "id": "54e32c94-d7ef-4f1f-84e5-4b373c42c16a",
   "metadata": {},
   "outputs": [],
   "source": [
    "# class H5Dataset(Dataset):\n",
    "#     def __init__(self, filename):\n",
    "#         self.f = h5py.File(filename, 'r')\n",
    "#         print('The following keys are availible: ', list(self.f.keys()))\n",
    "#     def load_data(self,inputs,targets):\n",
    "#         self.X = self.f[inputs]\n",
    "#         print('Loaded inputs tensor ', self.X.shape)\n",
    "#         self.y = self.f[targets]\n",
    "#         print('Loaded targets tensor ', self.y.shape)\n",
    "#     def __len__(self):\n",
    "#         return len(self.y)\n",
    "#     def __getitem__(self,idx):\n",
    "#         return self.X[idx], self.y[idx]\n",
    "\n",
    "# def split_Dataset(full_dataset, split_ratio=0.8):\n",
    "#     train_size = int(split_ratio * len(full_dataset))\n",
    "#     test_size = len(full_dataset) - train_size\n",
    "#     return torch.utils.data.random_split(full_dataset, [train_size, test_size])"
   ]
  },
  {
   "cell_type": "code",
   "execution_count": 7,
   "id": "be1bcbb7-5b0e-4b83-aaa3-f86f48d9cff0",
   "metadata": {},
   "outputs": [
    {
     "name": "stdout",
     "output_type": "stream",
     "text": [
      "The following keys are availible:  ['X', 'y']\n"
     ]
    }
   ],
   "source": [
    "electrons = H5Dataset(\"SingleElectronPt50_IMGCROPS_n249k_RHv1.hdf5\")\n",
    "electrons.load_data('X','y')"
   ]
  },
  {
   "cell_type": "code",
   "execution_count": null,
   "id": "5d200f00-426a-4493-a81a-104a42c20b93",
   "metadata": {},
   "outputs": [],
   "source": []
  },
  {
   "cell_type": "code",
   "execution_count": 9,
   "id": "86575b3f-f6f3-4cf8-83bc-0dd3c7ce8475",
   "metadata": {},
   "outputs": [
    {
     "name": "stdout",
     "output_type": "stream",
     "text": [
      "Feature batch shape: torch.Size([64, 32, 32, 2])\n",
      "Labels batch shape: torch.Size([64])\n"
     ]
    }
   ],
   "source": [
    "\n",
    "\n",
    "train_dataloader = DataLoader(electrons, batch_size=64, shuffle=True)\n",
    "train_features, train_labels = next(iter(train_dataloader))\n",
    "print(f\"Feature batch shape: {train_features.size()}\")\n",
    "print(f\"Labels batch shape: {train_labels.size()}\")\n",
    "\n",
    "# plt.imshow(img, cmap=\"gray\")\n",
    "# plt.show()\n",
    "# print(f\"Label: {label}\")"
   ]
  },
  {
   "cell_type": "code",
   "execution_count": null,
   "id": "80f488c1-6c37-4524-b52a-94abf83d9604",
   "metadata": {},
   "outputs": [],
   "source": []
  }
 ],
 "metadata": {
  "kernelspec": {
   "display_name": "Python 3 (ipykernel)",
   "language": "python",
   "name": "python3"
  },
  "language_info": {
   "codemirror_mode": {
    "name": "ipython",
    "version": 3
   },
   "file_extension": ".py",
   "mimetype": "text/x-python",
   "name": "python",
   "nbconvert_exporter": "python",
   "pygments_lexer": "ipython3",
   "version": "3.11.5"
  }
 },
 "nbformat": 4,
 "nbformat_minor": 5
}
